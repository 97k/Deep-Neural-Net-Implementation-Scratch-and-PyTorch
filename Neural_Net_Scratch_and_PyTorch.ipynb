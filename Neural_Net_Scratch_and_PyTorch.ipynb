{
  "nbformat": 4,
  "nbformat_minor": 0,
  "metadata": {
    "colab": {
      "name": "Neural Net -- Scratch vs PyTorch.ipynb",
      "version": "0.3.2",
      "provenance": [],
      "toc_visible": true,
      "include_colab_link": true
    },
    "kernelspec": {
      "name": "python3",
      "display_name": "Python 3"
    }
  },
  "cells": [
    {
      "cell_type": "markdown",
      "metadata": {
        "id": "view-in-github",
        "colab_type": "text"
      },
      "source": [
        "<a href=\"https://colab.research.google.com/github/aditya98ak/Deep-Neural-Net-Implementation-Scratch-and-PyTorch/blob/master/Neural_Net_Scratch_and_PyTorch.ipynb\" target=\"_parent\"><img src=\"https://colab.research.google.com/assets/colab-badge.svg\" alt=\"Open In Colab\"/></a>"
      ]
    },
    {
      "metadata": {
        "id": "ka1OgpZul9RT",
        "colab_type": "text"
      },
      "cell_type": "markdown",
      "source": [
        "This notebook is part of my blogpost which can be found here. The blogpost is for making deep neural net from scratch in Python. I've also included a pytorch versiono of this code in last part of this notebook.\n",
        "\n",
        "I've just picked up a random architecture, you can tweek the architecture in order to get good results. The architecute used in this code, is just for demonstration purpose only.\n",
        "\n",
        "Play with the code, change parameters, change the architecture, that will help you to learn better and also at the same time will force you to ask things that you'd have not noticed\n",
        "\n",
        "If you've any doubt in this piece of code please refer to my blog-post. I'm not an expert, I'm always open to learning, so if mistakenly I've done something wrong here, please drop me an email at [adityakaushik471@gmail.com](mailto:adityakaushik471@gmail.com). or raise an issue. I'd be happy to solve"
      ]
    },
    {
      "metadata": {
        "id": "zE3OiQFtkhZp",
        "colab_type": "text"
      },
      "cell_type": "markdown",
      "source": [
        "# Numpy Implementation"
      ]
    },
    {
      "metadata": {
        "id": "QTJXG158idK_",
        "colab_type": "code",
        "colab": {}
      },
      "cell_type": "code",
      "source": [
        "import numpy as np\n",
        "import matplotlib.pyplot as plt\n",
        "import seaborn as sns\n",
        "sns.set()\n",
        "from sklearn.model_selection import train_test_split\n",
        "from sklearn.datasets import load_breast_cancer\n",
        "from tqdm import tqdm_notebook, trange\n",
        "from tqdm import tqdm\n",
        "import sys\n",
        "import time\n",
        "from sklearn.metrics import accuracy_score, classification_report"
      ],
      "execution_count": 0,
      "outputs": []
    },
    {
      "metadata": {
        "id": "ZxqaLZ7jike0",
        "colab_type": "code",
        "colab": {}
      },
      "cell_type": "code",
      "source": [
        "class NeuralNet():\n",
        "  \n",
        "  def __init__(self, architecture):\n",
        "    self.architecture = architecture\n",
        "    self.params = self._initialize_params(architecture)\n",
        "  \n",
        "  def _initialize_params(self, architecture):\n",
        "    params = {}\n",
        "    for id_, layer in enumerate(architecture):\n",
        "      layer_id = id_ + 1\n",
        "\n",
        "      input_dim = layer['input_dim']\n",
        "      output_dim = layer['output_dim']\n",
        "\n",
        "      params['W'+str(layer_id)] = np.random.randn(output_dim, input_dim)*0.1\n",
        "      params['b'+str(layer_id)] = np.zeros((output_dim, 1))\n",
        "\n",
        "    return params\n",
        "  \n",
        "  def sigmoid(self, Z):\n",
        "    return 1/(1+np.exp(-Z))\n",
        "  def relu(self, Z):\n",
        "    return np.maximum(0, Z)\n",
        "\n",
        "  def sigmoid_backward(self, dA, z_curr):\n",
        "    sig = self.sigmoid(z_curr)\n",
        "    return sig*(1-sig)*dA\n",
        "\n",
        "  def relu_backward(self, dA, z_curr):\n",
        "    dz = np.array(dA, copy=True)\n",
        "    dz[z_curr<=0]=0\n",
        "    return dz\n",
        "  \n",
        "  def _forward_prop_this_layer(self, A_prev, W_curr, b_curr, activation_function):\n",
        "    z_curr = np.dot(W_curr, A_prev) + b_curr\n",
        "\n",
        "    if activation_function is 'relu':\n",
        "      activation = self.relu\n",
        "    elif activation_function is 'sigmoid':\n",
        "      activation = self.sigmoid\n",
        "    else:\n",
        "      raise Exception(f\"{activation_function} is not supported, Only sigmoid, relu are supported\")\n",
        "\n",
        "    return activation(z_curr), z_curr\n",
        "\n",
        "  def _forward(self, X):\n",
        "    cache = {}\n",
        "    A_current = X\n",
        "    for layer_id_prev, layer in enumerate(self.architecture):\n",
        "      current_layer_id = layer_id_prev+1\n",
        "\n",
        "      A_previous = A_current\n",
        "      activation = layer['activation']\n",
        "\n",
        "      W_curr = self.params['W'+str(current_layer_id)]\n",
        "      b_curr = self.params['b'+str(current_layer_id)]\n",
        "\n",
        "      A_current, Z_curr = self._forward_prop_this_layer(A_previous, W_curr,\n",
        "                                                  b_curr, activation)\n",
        "\n",
        "      cache['A'+str(layer_id_prev)] = A_previous\n",
        "      cache['Z'+str(current_layer_id)] = Z_curr\n",
        "      \n",
        "    return A_current, cache\n",
        "\n",
        "  def _criterion(self, y, yhat):\n",
        "    m = yhat.shape[1]\n",
        "    cost = -1/m * (np.dot(y, np.log(yhat).T) + np.dot(1-y, np.log(1-yhat).T))\n",
        "    return np.squeeze(cost)\n",
        "  \n",
        "  def _backprop_this_layer(self, da_curr, z_curr, W_curr, b_curr, A_prev, activation_function):\n",
        "    if activation_function is 'sigmoid':\n",
        "      activation_back = self.sigmoid_backward\n",
        "    elif activation_function is 'relu':\n",
        "      activation_back = self.relu_backward\n",
        "    else:\n",
        "      raise Exception('need sigmoid or relu')\n",
        "    m = A_prev.shape[1]\n",
        "\n",
        "    dz_curr = activation_back(da_curr, z_curr)\n",
        "    dw_curr = np.dot(dz_curr, A_prev.T)/m\n",
        "    db_curr = np.sum(dz_curr, axis=1, keepdims=True)/m\n",
        "    da_prev = np.dot(W_curr.T, dz_curr)\n",
        "\n",
        "    return da_prev, dw_curr, db_curr\n",
        "  \n",
        "  def _backward(self, ytrue, ypred, cache):\n",
        "    grads = {}\n",
        "    m = ytrue.shape[1]\n",
        "    da_prev = np.divide(1-ytrue, 1-ypred) - np.divide(ytrue, ypred)\n",
        "    \n",
        "    for prev_layer_id, layer in reversed(list(enumerate(self.architecture))):\n",
        "      layer_id = prev_layer_id + 1\n",
        "      activation = layer['activation']\n",
        "\n",
        "      da_curr = da_prev\n",
        "\n",
        "      A_prev = cache['A'+str(prev_layer_id)]\n",
        "      Z_curr = cache['Z'+str(layer_id)]\n",
        "\n",
        "      W_curr = self.params['W'+str(layer_id)]\n",
        "      b_curr = self.params['b'+str(layer_id)]\n",
        "\n",
        "      da_prev, dw_curr, db_curr = self._backprop_this_layer(\n",
        "          da_curr, Z_curr, W_curr, b_curr, A_prev, activation)\n",
        "\n",
        "      grads[\"dw\"+str(layer_id)] = dw_curr\n",
        "      grads['db'+str(layer_id)] = db_curr\n",
        "\n",
        "    return grads\n",
        "  \n",
        "  def update(self, grads, learning_rate):\n",
        "    for layer_id, layer in enumerate(self.architecture, 1):\n",
        "      self.params['W'+str(layer_id)] -= learning_rate * grads['dw'+str(layer_id)]\n",
        "      self.params['b'+str(layer_id)] -= learning_rate * grads['db'+str(layer_id)]\n",
        "  \n",
        "  def fit(self, X, y, epochs, learning_rate, verbose=True, show_loss=True):\n",
        "    X, y = X.T, y.reshape((y.shape[0],-1)).T\n",
        "    loss_history, accuracy_history = [], []\n",
        "    for epoch in tqdm_notebook(range(epochs), total=epochs, unit='epoch'):\n",
        "      yhat, cache = self._forward(X)\n",
        "      loss = self._criterion(y, yhat)\n",
        "      loss_history.append(loss)\n",
        "\n",
        "      yacc = yhat.copy()\n",
        "      yacc[yacc>0.5] = 1\n",
        "      yacc[yacc<=0.5] = 0\n",
        "\n",
        "      accuracy = np.sum(y[0]==yacc[0])/(yacc.shape[1])\n",
        "      accuracy_history.append(accuracy)\n",
        "\n",
        "      grads_values = self._backward(y, yhat, cache)\n",
        "\n",
        "      self.update(grads_values, learning_rate)\n",
        "      if(epoch % 1000 == 0):\n",
        "              if(verbose):\n",
        "                  print(\"Epoch: {:05} - cost: {:.5f} - accuracy: {:.5f}\".format(epoch, loss, accuracy))\n",
        "\n",
        "        \n",
        "    fig = plt.figure(figsize=(12,10))\n",
        "    plt.plot(range(epochs), loss_history, 'r-')\n",
        "    plt.plot(range(epochs), accuracy_history, 'b--')\n",
        "    plt.legend(['Training_loss', 'Training_Accuracy'])\n",
        "    plt.xlabel('Epochs')\n",
        "    plt.ylabel('Loss/Accuracy')\n",
        "    plt.show()\n",
        "\n",
        "  def predict(self, X):\n",
        "    yhat, _ = self._forward(X)\n",
        "    yhat[yhat>0.5]=1\n",
        "    yhat[yhat<=0.5]=0\n",
        "    return np.squeeze(yhat)"
      ],
      "execution_count": 0,
      "outputs": []
    },
    {
      "metadata": {
        "id": "LCNYVkSciukt",
        "colab_type": "text"
      },
      "cell_type": "markdown",
      "source": [
        "Let's check this net, is it working?"
      ]
    },
    {
      "metadata": {
        "id": "WXIcGLGQi1QN",
        "colab_type": "code",
        "colab": {}
      },
      "cell_type": "code",
      "source": [
        "bc = load_breast_cancer()\n",
        "X, y = bc.data, bc.target"
      ],
      "execution_count": 0,
      "outputs": []
    },
    {
      "metadata": {
        "id": "ypZWPflvjLcz",
        "colab_type": "code",
        "colab": {}
      },
      "cell_type": "code",
      "source": [
        "X_train, X_test, y_train, y_test = train_test_split(X, y, stratify=y, test_size=0.1, random_state=42)"
      ],
      "execution_count": 0,
      "outputs": []
    },
    {
      "metadata": {
        "id": "0O8NIHDAjbI0",
        "colab_type": "text"
      },
      "cell_type": "markdown",
      "source": [
        "Let's Design the architecture of neural net"
      ]
    },
    {
      "metadata": {
        "id": "9yVaaHNLjhhN",
        "colab_type": "code",
        "colab": {
          "base_uri": "https://localhost:8080/",
          "height": 34
        },
        "outputId": "24dd10b6-6b68-4200-9c6e-1a80e176e71a"
      },
      "cell_type": "code",
      "source": [
        "X_train.shape"
      ],
      "execution_count": 7,
      "outputs": [
        {
          "output_type": "execute_result",
          "data": {
            "text/plain": [
              "(512, 30)"
            ]
          },
          "metadata": {
            "tags": []
          },
          "execution_count": 7
        }
      ]
    },
    {
      "metadata": {
        "id": "xAIjhyaLjfiC",
        "colab_type": "code",
        "colab": {}
      },
      "cell_type": "code",
      "source": [
        "NN_ARCHITECTURE = [\n",
        "    {\"input_dim\": 30, \"output_dim\": 32, \"activation\": \"relu\"}, # Input Layer\n",
        "    {\"input_dim\": 32, \"output_dim\": 64, \"activation\": \"relu\"},# Hidden Layer -- 1\n",
        "    {\"input_dim\": 64, \"output_dim\": 64, \"activation\": \"relu\"},# Second Hidden Layer\n",
        "    {\"input_dim\": 64, \"output_dim\": 32, \"activation\": \"relu\"},# Third Hidden Layer\n",
        "    {\"input_dim\": 32, \"output_dim\": 1, \"activation\": \"sigmoid\"},# Output Layer\n",
        "]"
      ],
      "execution_count": 0,
      "outputs": []
    },
    {
      "metadata": {
        "id": "co9NsrjfjgZX",
        "colab_type": "code",
        "colab": {
          "base_uri": "https://localhost:8080/",
          "height": 706
        },
        "outputId": "c2192f9f-697c-4b31-9877-7d8cb70f3130"
      },
      "cell_type": "code",
      "source": [
        "net = NeuralNet(NN_ARCHITECTURE)\n",
        "net.fit(X_train, y_train, epochs=5001, learning_rate=3e-3, verbose=True, show_loss=True)"
      ],
      "execution_count": 25,
      "outputs": [
        {
          "output_type": "display_data",
          "data": {
            "application/vnd.jupyter.widget-view+json": {
              "model_id": "f23cb5b9c5ed4dbaaa3e3eb5dd8eb9ef",
              "version_minor": 0,
              "version_major": 2
            },
            "text/plain": [
              "HBox(children=(IntProgress(value=0, max=5001), HTML(value='')))"
            ]
          },
          "metadata": {
            "tags": []
          }
        },
        {
          "output_type": "stream",
          "text": [
            "Epoch: 00000 - cost: 1.43726 - accuracy: 0.37305\n",
            "Epoch: 01000 - cost: 0.19558 - accuracy: 0.92773\n",
            "Epoch: 02000 - cost: 0.17161 - accuracy: 0.92969\n",
            "Epoch: 03000 - cost: 0.17399 - accuracy: 0.93555\n",
            "Epoch: 04000 - cost: 0.15140 - accuracy: 0.93164\n",
            "Epoch: 05000 - cost: 0.16398 - accuracy: 0.93164\n"
          ],
          "name": "stdout"
        },
        {
          "output_type": "display_data",
          "data": {
            "image/png": "[encoded data removed]",
            "text/plain": [
              "<Figure size 864x720 with 1 Axes>"
            ]
          },
          "metadata": {
            "tags": []
          }
        }
      ]
    },
    {
      "metadata": {
        "id": "HaH6cbSFj-IW",
        "colab_type": "code",
        "colab": {
          "base_uri": "https://localhost:8080/",
          "height": 34
        },
        "outputId": "0a4492bf-f3fd-4304-c808-ae2f9ebee102"
      },
      "cell_type": "code",
      "source": [
        "predictions = net.predict(X_test.T)\n",
        "accuracy_score(y_test, predictions)"
      ],
      "execution_count": 26,
      "outputs": [
        {
          "output_type": "execute_result",
          "data": {
            "text/plain": [
              "0.8771929824561403"
            ]
          },
          "metadata": {
            "tags": []
          },
          "execution_count": 26
        }
      ]
    },
    {
      "metadata": {
        "id": "sAZZcWZTkFga",
        "colab_type": "code",
        "colab": {
          "base_uri": "https://localhost:8080/",
          "height": 168
        },
        "outputId": "6fc30729-74a1-45c3-fadd-ff07e238b207"
      },
      "cell_type": "code",
      "source": [
        "print(classification_report(y_test, predictions))"
      ],
      "execution_count": 16,
      "outputs": [
        {
          "output_type": "stream",
          "text": [
            "              precision    recall  f1-score   support\n",
            "\n",
            "           0       0.82      0.86      0.84        21\n",
            "           1       0.91      0.89      0.90        36\n",
            "\n",
            "   micro avg       0.88      0.88      0.88        57\n",
            "   macro avg       0.87      0.87      0.87        57\n",
            "weighted avg       0.88      0.88      0.88        57\n",
            "\n"
          ],
          "name": "stdout"
        }
      ]
    },
    {
      "metadata": {
        "id": "JLKZCzXIkRcx",
        "colab_type": "text"
      },
      "cell_type": "markdown",
      "source": [
        "# Let's see Pytorch Implementation of the above code"
      ]
    },
    {
      "metadata": {
        "id": "NOb8ptHBkgFr",
        "colab_type": "code",
        "colab": {}
      },
      "cell_type": "code",
      "source": [
        "import torch\n",
        "from torch import nn, optim"
      ],
      "execution_count": 0,
      "outputs": []
    },
    {
      "metadata": {
        "id": "LIdtnLyEk55o",
        "colab_type": "text"
      },
      "cell_type": "markdown",
      "source": [
        "Play with the architecture :)"
      ]
    },
    {
      "metadata": {
        "id": "7Uk5BUK-k8vz",
        "colab_type": "code",
        "colab": {}
      },
      "cell_type": "code",
      "source": [
        "model = nn.Sequential(nn.Linear(30, 32),nn.ReLU(), \n",
        "              nn.Linear(32,64), nn.ReLU(),\n",
        "             nn.Linear(64,64), nn.ReLU(),\n",
        "             nn.Linear(64, 32), nn.ReLU(),\n",
        "             nn.Linear(32, 1), nn.Sigmoid())\n",
        "\n",
        "optimizer = optim.SGD(model.parameters(), lr=3e-3, momentum=0.9)\n",
        "criterion = nn.BCELoss()"
      ],
      "execution_count": 0,
      "outputs": []
    },
    {
      "metadata": {
        "id": "OaKGM7n5lBcJ",
        "colab_type": "code",
        "colab": {}
      },
      "cell_type": "code",
      "source": [
        "from torch.utils import data\n",
        "trainds = data.TensorDataset(torch.from_numpy(X_train), torch.from_numpy(y_train).int())\n",
        "testds = data.TensorDataset(torch.from_numpy(X_test), torch.from_numpy(y_test).int())\n",
        "\n",
        "from torch.utils.data import DataLoader\n",
        "trainloader = DataLoader(trainds, batch_size=16)\n",
        "testloader = DataLoader(testds, batch_size=16)"
      ],
      "execution_count": 0,
      "outputs": []
    },
    {
      "metadata": {
        "id": "vEmSsqAylEUK",
        "colab_type": "code",
        "colab": {
          "base_uri": "https://localhost:8080/",
          "height": 171
        },
        "outputId": "792eed72-0f74-425e-cec0-0bd7411793a2"
      },
      "cell_type": "code",
      "source": [
        "for epoch in range(501):\n",
        "  running_loss = 0.0\n",
        "  running_corrects = 0.0\n",
        "  for inp, label in trainloader:\n",
        "    inp, label = inp.float(), label.float()\n",
        "    output = model(inp)\n",
        "    val = (output.data>0.5).float()\n",
        "    val = val.view(1, -1)\n",
        "\n",
        "    loss = criterion(output, label)\n",
        "    \n",
        "    optimizer.zero_grad()\n",
        "    loss.backward()\n",
        "    optimizer.step()\n",
        "    \n",
        "    running_loss += loss.item()*inp.size(0)\n",
        "    running_corrects += torch.sum((val==label))\n",
        "    \n",
        "  epoch_loss = running_loss/len(trainloader.dataset)\n",
        "  epoch_acc = running_corrects.double()/len(trainloader.dataset)\n",
        "  if epoch%100==0:\n",
        "    print(f'Epoch - {epoch} Loss..{epoch_loss}...Accuracy {epoch_acc}')"
      ],
      "execution_count": 92,
      "outputs": [
        {
          "output_type": "stream",
          "text": [
            "/usr/local/lib/python3.6/dist-packages/torch/nn/functional.py:2016: UserWarning: Using a target size (torch.Size([4])) that is different to the input size (torch.Size([4, 1])) is deprecated. Please ensure they have the same size.\n",
            "  \"Please ensure they have the same size.\".format(target.size(), input.size()))\n"
          ],
          "name": "stderr"
        },
        {
          "output_type": "stream",
          "text": [
            "Epoch - 0 Loss..0.6497794032329693...Accuracy 0.705078125\n",
            "Epoch - 100 Loss..0.22223936397882227...Accuracy 0.912109375\n",
            "Epoch - 200 Loss..0.21637885147220004...Accuracy 0.91015625\n",
            "Epoch - 300 Loss..0.2176915077202568...Accuracy 0.908203125\n",
            "Epoch - 400 Loss..0.30164250000962056...Accuracy 0.888671875\n",
            "Epoch - 500 Loss..0.23851336545521917...Accuracy 0.921875\n"
          ],
          "name": "stdout"
        }
      ]
    },
    {
      "metadata": {
        "id": "KPNNZnh0lItj",
        "colab_type": "code",
        "colab": {}
      },
      "cell_type": "code",
      "source": [
        "predictions = []\n",
        "for inp, _ in testloader:\n",
        "  output = model(inp.float())\n",
        "  preds = (output.data>0.5).float()\n",
        "  predictions.append(preds.view(1,-1).numpy().ravel())"
      ],
      "execution_count": 0,
      "outputs": []
    },
    {
      "metadata": {
        "id": "ULO14SQ6lofc",
        "colab_type": "code",
        "colab": {}
      },
      "cell_type": "code",
      "source": [
        "predictions = np.concatenate(np.array(predictions)).ravel()"
      ],
      "execution_count": 0,
      "outputs": []
    },
    {
      "metadata": {
        "id": "XYCnDCRenj8b",
        "colab_type": "code",
        "colab": {
          "base_uri": "https://localhost:8080/",
          "height": 202
        },
        "outputId": "81aae226-d997-4c11-aead-d2169c32b728"
      },
      "cell_type": "code",
      "source": [
        "print(accuracy_score(y_test, predictions))\n",
        "print('classification report \\n', classification_report(y_test, predictions))"
      ],
      "execution_count": 85,
      "outputs": [
        {
          "output_type": "stream",
          "text": [
            "0.8245614035087719\n",
            "classification report \n",
            "               precision    recall  f1-score   support\n",
            "\n",
            "           0       0.70      0.90      0.79        21\n",
            "           1       0.93      0.78      0.85        36\n",
            "\n",
            "   micro avg       0.82      0.82      0.82        57\n",
            "   macro avg       0.82      0.84      0.82        57\n",
            "weighted avg       0.85      0.82      0.83        57\n",
            "\n"
          ],
          "name": "stdout"
        }
      ]
    },
    {
      "metadata": {
        "id": "H6R-WRvWoji4",
        "colab_type": "code",
        "colab": {}
      },
      "cell_type": "code",
      "source": [
        ""
      ],
      "execution_count": 0,
      "outputs": []
    }
  ]
}